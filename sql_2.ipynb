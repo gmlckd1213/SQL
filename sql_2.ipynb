{
 "cells": [
  {
   "cell_type": "markdown",
   "id": "aquatic-today",
   "metadata": {},
   "source": [
    "# 데이터에서 유사한 값을 찾고 싶을 때?\n",
    "\n",
    "LIKE : 특정 문자가 포함된 문자열을 찾고 싶을 때 사용하는 명령\n",
    "- LIKE '%왕자' : '왕자'로 끝나는 책 검색\n",
    "- LIKE '왕자%' : '왕자'로 시작하는 책 검색\n",
    "- LIKE '%왕자%' : '왕자'가 포함되는 책 검색"
   ]
  },
  {
   "cell_type": "markdown",
   "id": "literary-denmark",
   "metadata": {},
   "source": [
    "### 실습1 데이터에서 유사한 값 찾기 - like\n",
    "\n",
    "지시사항\n",
    "1. employees 테이블에서 '1997-07-07' 일 입사한 회원을 검색해보세요.\n",
    "2. 검색할 때는 모든 컬럼을 검색하도록 합시다.\n",
    "\n",
    "```sql\n",
    "select * \n",
    "from employees\n",
    "where\n",
    "hire_date like '1997-07-07'\n",
    "```\n"
   ]
  },
  {
   "cell_type": "markdown",
   "id": "beneficial-average",
   "metadata": {},
   "source": [
    "### 실습2 데이터에서 유사한 값 찾기 - like\n",
    "\n",
    "지시사항\n",
    "1. book테이블에서 The Little로 시작하는 책을 검색해보세요.\n",
    "2. book테이블에서 and가 포함된 책을 검색해보세요.\n",
    "3. book테이블에서 Rings로 끝나는 책을 검색해보세요.\n",
    "4. 출력할 때는 모든 컬럼을 출력하도록 합시다.\n",
    "5. book테이블의 각 컬럼은 다음과 같습니다.\n",
    "\n",
    "|컬럼명|내용|자료형|\n",
    "|-|-|-|\n",
    "|id|id|정수|\n",
    "|title|제목|문자열|\n",
    "|author|저자|문자열|\n",
    "|publisher|출판사|문자열|\n",
    "|date_recieved|구매일|날짜|\n",
    "\n",
    "```sql\n",
    "-- 책들의 정보가 담겨있는 테이블의 구조를 조회합니다. 수정하실 필요는 없습니다.\n",
    "DESC book;\n",
    "-- 아래에 제목이 The Little로 시작하는 책만 조회하는 쿼리를 작성해주세요.\n",
    "select *\n",
    "from book\n",
    "where title like 'The Little%';\n",
    "-- 아래에 제목에 and가 포함된 책만 조회하는 쿼리를 작성해주세요.\n",
    "select *\n",
    "from book\n",
    "where title like '%and%';\n",
    "-- 아래에 제목이 Rings로 끝나는 책만 조회하는 쿼리를 작성해주세요.\n",
    "select *\n",
    "from book\n",
    "where title like '%Rings';\n",
    "```"
   ]
  },
  {
   "cell_type": "markdown",
   "id": "satellite-homework",
   "metadata": {},
   "source": [
    "### 실습3 데이터에서 유사한 값 찾기 - like\n",
    "\n",
    "지시사항\n",
    "1. employees 테이블에서 hire_date에 7이 들어가는 직원들을 검색해보세요.\n",
    "2. 검색할 때는 모든 컬럼을 검색하도록 합시다.\n",
    "\n",
    "```sql\n",
    "select *\n",
    "from employees\n",
    "where hire_date like '%7%'\n",
    "```"
   ]
  },
  {
   "cell_type": "markdown",
   "id": "understanding-assets",
   "metadata": {},
   "source": [
    "# 데이터 정렬하기\n",
    "\n",
    "ORDER BY : 데이터를 검색할 때 정렬하여 결과를 출력하는 명령어<br>\n",
    "기본적으로 DESC -> 높은 데이터부터 정렬하여 검색"
   ]
  },
  {
   "cell_type": "markdown",
   "id": "fresh-beads",
   "metadata": {},
   "source": [
    "### 실습4 데이터 정렬하기 \n",
    "지시사항\n",
    "1. book 테이블에서 SELECT문에 ORDER BY문을 추가하여 책 제목을 기준으로 오름차순 정렬로 조회해 봅시다.\n",
    "2. 출력할 때는 \\*을 이용해 모든 컬럼을 출력하도록 합니다.\n",
    "3. book 테이블의 각 컬럼은 다음과 같습니다.\n",
    "\n",
    "|컬럼명|내용|자료형|\n",
    "|-|-|-|\n",
    "|id|id|정수|\n",
    "|title|제목|문자열|\n",
    "|author|저자|문자열|\n",
    "|publisher|출판사|문자열|\n",
    "|date_recieved|구매일|날짜|\n",
    "\n",
    "```sql\n",
    "--- book 테이블의 구조를 조회합니다. 수정하실 필요는 없습니다.\n",
    "DESC book;\n",
    "-- book 테이블의 내용을 조회해 봅시다. 이때 책 제목을 기준으로 오름차순으로 조회해 봅시다.\n",
    "\n",
    "select *\n",
    "from book\n",
    "order by title asc;\n",
    "```"
   ]
  },
  {
   "cell_type": "markdown",
   "id": "removable-pattern",
   "metadata": {},
   "source": [
    "### 실습5 데이터 정렬하기\n",
    "지시사항\n",
    "1. salaries 테이블에서 SELECT문에 ORDER BY문을 추가하여 salary를 기준으로 오름차순 정렬로 검색해봅시다.\n",
    "2. 검색할 때는 \\*을 이용해 모든 컬럼을 검색하도록 합니다.\n",
    "\n",
    "```sql\n",
    "-- salaries 테이블의 내용을 출력해 봅시다. 이때 연봉액 제목을 기준으로 오름차순으로 출력해 봅시다.\n",
    "\n",
    "select * \n",
    "from salaries\n",
    "ORDER BY salary asc;\n",
    "\n",
    "\n",
    "```"
   ]
  },
  {
   "cell_type": "markdown",
   "id": "prescribed-summit",
   "metadata": {},
   "source": [
    "# 데이터 삽입하기\n",
    "INSERT : 관계형 데이터베이스의 테이블에 값을 저장하는 명령"
   ]
  },
  {
   "cell_type": "markdown",
   "id": "warming-canberra",
   "metadata": {},
   "source": [
    "### 실습6 데이터 삽입하기\n",
    "지시사항<br>\n",
    "아래의 정보를 employees 테이블에 넣어보세요.<br>\n",
    "emp_no : 10001<br>\n",
    "birth_date : '1953-09-02'<br>\n",
    "first_name : 'Georgi'<br>\n",
    "last_name : 'Facello'<br>\n",
    "gender : 'M'<br>\n",
    "hire_date : '1986-06-26'<br>\n",
    "superior_no : NULL\n",
    "\n",
    "```sql\n",
    "-- INSERT문을 이용해 쿼리를 작성해 보세요.\n",
    "insert into\n",
    "employees(emp_no, birth_date, first_name, last_name, gender, hire_date, superior_no)\n",
    "values(10001, '1953-09-02', 'Georgi','Facello','M','1986-06-26', NULL);\n",
    "\n",
    "SELECT * FROM employees;\n",
    "\n",
    "```"
   ]
  },
  {
   "cell_type": "markdown",
   "id": "focused-monster",
   "metadata": {},
   "source": [
    "# 데이터 수정하기\n",
    "UPDATE: 관계형 데이터베이스의 테이블에서 이미 저장된 값을 수정하는 명령"
   ]
  },
  {
   "cell_type": "markdown",
   "id": "visible-queen",
   "metadata": {},
   "source": [
    "### 실습7 데이터 수정하기\n",
    "지시사항\n",
    "1. Elice회원의 id는 1000번입니다. rental 테이블에 1000번 회원의 반납시간을 '2019-04-05 12:00:30' 로 바꿔봅시다.\n",
    "2. rental 테이블은 아래와 같은 구조를 가집니다.\n",
    "\n",
    "|컬럼명|내용|자료형|\n",
    "|-|-|-|\n",
    "|id|대여기록id|정수|\n",
    "|book_id|책id|정수|\n",
    "|user_id|사용자id|정수|\n",
    "|rental_begin_date|대출시각|날짜와 시각|\n",
    "|rental_end_date|반납시간|날짜와시각|\n",
    "\n",
    "```sql\n",
    "DESC rental;\n",
    "\n",
    "-- 반납 시간을 수정하는 쿼리를 작성해 보세요.\n",
    "update rental\n",
    "set rental_end_date = '2019-04-05 12:00:30'\n",
    "where id = 1000;\n",
    "-- 대출 반납 상태를 조회합니다. 반납시간이 올바르게 추가되었는지는 실행버튼을 통해 확인할 수 있습니다.\n",
    "SELECT * FROM rental;\n",
    "```"
   ]
  },
  {
   "cell_type": "markdown",
   "id": "adult-pillow",
   "metadata": {},
   "source": [
    "### 실습8 데이터 수정하기\n",
    "지시사항<br>\n",
    "employees 테이블에서 emp_no이 10001인 직원의 생년월일(birth_date)을 '1953-09-01' 으로 수정해보세요.\n",
    "\n",
    "```sql\n",
    "-- UPDATE문을 이용해 쿼리를 작성해 보세요.\n",
    "update employees\n",
    "set birth_date = '1953-09-01'\n",
    "where emp_no = '10001';\n",
    "\n",
    "SELECT * FROM employees;\n",
    "```"
   ]
  },
  {
   "cell_type": "markdown",
   "id": "false-yahoo",
   "metadata": {},
   "source": [
    "# 데이터 삭제하기\n",
    "DELETE: 관계형 데이터베이스의 테이블에서 이미 저장된 값을 삭제하는 명령"
   ]
  },
  {
   "cell_type": "markdown",
   "id": "extra-mexico",
   "metadata": {},
   "source": [
    "### 실습9 데이터 삭제하기\n",
    "지시사항\n",
    "1. book 테이블에서 아래 제목을 가진 책들을 데이터베이스에서 삭제하세요.\n",
    "- Harry Potter and the Philosopher's Stone\n",
    "- The Lord of the Rings\n",
    "2. book 테이블의 내용은 다음과 같습니다.\n",
    "\n",
    "|컬럼명|내용|자료형|\n",
    "|-|-|-|\n",
    "|id|id|정수|\n",
    "|title|제목|문자열|\n",
    "|author|저자|문자열|\n",
    "|publisher|출판사|문자열|\n",
    "|date_recieved|구매일|날짜|\n",
    "\n",
    "```sql\n",
    "-- 잃어버린 책 2권을 book 테이블에서 삭제하여 봅시다.\n",
    "delete\n",
    "from book\n",
    "where title = 'Harry Potter and the Philosopher\\'s Stone';\n",
    "\n",
    "delete\n",
    "from book\n",
    "where title = 'The lord of the Rings';\n",
    "-- 전체 책의 정보와 회원정보를 조회합니다. 수정하실 필요는 없습니다.\n",
    "SELECT * FROM book;\n",
    "```"
   ]
  },
  {
   "cell_type": "markdown",
   "id": "billion-scott",
   "metadata": {},
   "source": [
    "### 실습10 데이터 삭제하기\n",
    "지시사항<br>\n",
    "employees 테이블에서 퇴사한 직원 'Maliniak Kyoichi' 을 데이터베이스에서 삭제해봅시다. 'Maliniak Kyoichi' 의 직원 번호는 10005입니다.\n",
    "\n",
    "```sql\n",
    "-- DELETE문을 이용해 쿼리를 작성해 보세요.\n",
    "DELETE \n",
    "from employees\n",
    "where emp_no = '10005';\n",
    "\n",
    "SELECT * FROM employees;\n",
    "```"
   ]
  },
  {
   "cell_type": "markdown",
   "id": "level-worse",
   "metadata": {},
   "source": []
  },
  {
   "cell_type": "markdown",
   "id": "based-canadian",
   "metadata": {},
   "source": []
  }
 ],
 "metadata": {
  "kernelspec": {
   "display_name": "Python 3.9.2 64-bit",
   "language": "python",
   "name": "python392jvsc74a57bd0aee8b7b246df8f9039afb4144a1f6fd8d2ca17a180786b69acc140d282b71a49"
  },
  "language_info": {
   "codemirror_mode": {
    "name": "ipython",
    "version": 3
   },
   "file_extension": ".py",
   "mimetype": "text/x-python",
   "name": "python",
   "nbconvert_exporter": "python",
   "pygments_lexer": "ipython3",
   "version": "3.9.2"
  }
 },
 "nbformat": 4,
 "nbformat_minor": 5
}
