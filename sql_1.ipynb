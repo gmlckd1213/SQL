{
 "cells": [
  {
   "cell_type": "markdown",
   "id": "divided-accounting",
   "metadata": {},
   "source": [
    "# SQL이란?\n",
    "<br>\n",
    "\n",
    "### 데이터베이스란 무엇일까?\n",
    "\n",
    "<br>\n",
    "여러 사람이 공유해 사용할 목적으로 통합하여 관리되는 데이터의 모음이다.(Mara Db, Amazon Redshift, Oracle DB..)\n",
    "\n",
    "<br><br>\n",
    "데이터베이스에서 검색과 분석에 사용되는 기본 사용 방법은 데이터베이스 종류와 상관없이 동일!\n",
    "\n",
    "<br><br>\n",
    "\n",
    "### Structured Query Language의 약자로 데이터 베이스에 접근하고 조작하기 위한 표준언어"
   ]
  },
  {
   "cell_type": "markdown",
   "id": "verified-wireless",
   "metadata": {},
   "source": [
    "# 데이터베이스의 종류\n",
    "\n",
    "<br>\n",
    "\n",
    "관계형 데이터베이스, 비관계형 데이터베이스\n",
    "<br>\n",
    "\n",
    "### 관계형 데이터베이스?\n",
    "하나 이상의 테이블로 이루어지며 서로 연결된 데이터를 가지고 있음<br>\n",
    "SQl을 통해 제어 가능\n",
    "\n",
    "|사번|이름|성별|\n",
    "|-|-|-|\n",
    "|001|홍길동|남성|\n",
    "|002|김철수|남성|\n",
    "|003|김영희|여성|\n",
    "\n",
    "컬럼과 레코드로 구성된 표<br>\n",
    "모든 테이블은 고유의 이름으로 구분"
   ]
  },
  {
   "cell_type": "markdown",
   "id": "placed-brazil",
   "metadata": {},
   "source": [
    "### 검색하기\n",
    "\n",
    "select<br>\n",
    "\\* 입력하면 모든 데이터 검색<br>\n",
    "DITINCT : 뒤에 나오는 컬럼의 중복을 제거하고 보여준다<br>\n",
    "2개 이상의 컬럼을 적으면, 한 쪽 컬럼에 중복이 있어도 다른 쪽 컬럼의 값이 다르면 다르게 취급한다."
   ]
  },
  {
   "cell_type": "markdown",
   "id": "inclusive-selling",
   "metadata": {},
   "source": [
    "# 실습 1 - 테이블 구조 파악\n",
    "\n",
    "지시사항\n",
    "1. DESC 문을 이용해 employees의 구조를 출력해보세요.\n",
    "2. DESC 문을 이용해 salaries의 구조를 출력해보세요.\n",
    "\n",
    "```sql\n",
    "desc employees ;\n",
    "desc salaries;\n",
    "```"
   ]
  },
  {
   "cell_type": "markdown",
   "id": "opponent-french",
   "metadata": {},
   "source": [
    "# 실습 2 - 데이터 조회\n",
    "\n",
    "지시사항<br>\n",
    "book의 정보를 검색하기 위해 오른쪽 코드 창에 다음과 같이 입력해 보세요.\n",
    "```sql\n",
    "SELECT * FROM book\n",
    "```"
   ]
  },
  {
   "cell_type": "markdown",
   "id": "synthetic-couple",
   "metadata": {},
   "source": [
    "# 실습 3 - 데이터 조회\n",
    "\n",
    "지시사항<br>\n",
    "1. SELECT문을 이용해 employees 테이블을 검색 해봅시다.\n",
    "2. 오른쪽 코드 창에 다음과 같이 입력해 보세요\n",
    "```sql\n",
    "SELECT *\n",
    "from employees ;\n",
    "```"
   ]
  },
  {
   "cell_type": "markdown",
   "id": "appropriate-while",
   "metadata": {},
   "source": [
    "# 실습 4 - 데이터 조회\n",
    "\n",
    "지시사항\n",
    "1. book테이블에서 책의 제목과 저자만 골라서 조회하여 봅시다. 단 제목, 저자 순으로 출력하도록 합시다.\n",
    "2. book테이블의 각 컬럼은 다음과 같습니다.\n",
    "\n",
    "```sql\n",
    "DESC book;\n",
    "SELECT title, author\n",
    "FROM book\n",
    "```"
   ]
  },
  {
   "cell_type": "markdown",
   "id": "parental-surface",
   "metadata": {},
   "source": [
    "# 실습 5 - 데이터 고유값만 출력\n",
    "\n",
    "지시사항\n",
    "1. DISTINCT를 이용해 중복 없이 직원 번호를 검색해보세요.\n",
    "2. 직원 번호인 emp_no 컬럼만 검색합니다.\n",
    "\n",
    "```sql\n",
    "select distinct emp_no\n",
    "from salaries;\n",
    "\n",
    "select emp_no\n",
    "from salaries;\n",
    "```"
   ]
  },
  {
   "cell_type": "markdown",
   "id": "smart-promotion",
   "metadata": {},
   "source": [
    "# 조건을 추가하여 검색하기\n",
    "\n",
    "<br>\n",
    "\n",
    "where : 검색하고자 하는 데이터의 조건을 설정할 수 있는 명령"
   ]
  },
  {
   "cell_type": "markdown",
   "id": "institutional-tourism",
   "metadata": {},
   "source": [
    "# 실습 6 - 조건추가하기1\n",
    "\n",
    "지시사항\n",
    "1. 앞서 배운 WHERE를 이용해 Joanne Kathleen Rowling작가의 책만 조회해 봅시다.\n",
    "2. 출력할 때는 \\*을 이용해 모든 컬럼을 출력하도록 합시다.\n",
    "3. book테이블의 각 컬럼은 다음과 같습니다.\n",
    "\n",
    "|컬럼명|내용|자료형|\n",
    "|-|-|-|\n",
    "|id|id|정수|\n",
    "|title|제목|문자열|\n",
    "|author|저자|문자열|\n",
    "|publisher|출판사|문자열|\n",
    "|date_recieved|구매일|날짜|\n",
    "\n",
    "```sql\n",
    "DESC book;\n",
    "select *\n",
    "from book\n",
    "where author = 'Joanne Kathleen Rowling';\n",
    "```\n"
   ]
  },
  {
   "cell_type": "markdown",
   "id": "popular-jenny",
   "metadata": {},
   "source": [
    "# 실습 7 - 조건추가하기2\n",
    "\n",
    "지시사항\n",
    "1. WHERE을 이용해 gender가 'M' 인 직원들을 검색하세요.\n",
    "2. 검색할 때는 \\*을 이용해 모든 컬럼을 검색하도록 합시다.\n",
    "\n",
    "```sql\n",
    "select *\n",
    "from employees\n",
    "where gender = 'M';\n",
    "```"
   ]
  },
  {
   "cell_type": "markdown",
   "id": "flush-filing",
   "metadata": {},
   "source": [
    "# 실습 8 - 여러조건추가하기1\n",
    "\n",
    "지시사항\n",
    "score테이블에서 수학(math) 점수가 80점 초과, 국어(korean) 점수가 90점 이상인 학생의 정보를 검색해보세요.\n",
    "\n",
    "```sql\n",
    "select *\n",
    "from score\n",
    "where math > 80 and korean>=90\n",
    "```"
   ]
  },
  {
   "cell_type": "markdown",
   "id": "material-reputation",
   "metadata": {},
   "source": [
    "# 실습 9 - 여러조건추가하기2\n",
    "\n",
    "지시사항\n",
    "1. 여자 직원들 중에 first_name이 'Chirstian' 인 직원들을 검색해보세요.\n",
    "2. 조회할 때는 모든 컬럼을 검색하도록 합니다.\n",
    "\n",
    "```sql\n",
    "select *\n",
    "from employees\n",
    "where gender = 'F' and first_name = 'Chirstian';\n",
    "```"
   ]
  },
  {
   "cell_type": "markdown",
   "id": "clinical-medicaid",
   "metadata": {},
   "source": [
    "# 실습 10 - 논리연산자를 활용하여 조건 만들기\n",
    "\n",
    "지시사항\n",
    "1. 논리연산자를 이용해 문제에 제시된 복잡한 조건을 만족하는 쿼리를 작성하세요.\n",
    "2. 조회할 때는 모든 컬럼을 검색하도록 합니다.\n",
    "\n",
    "```sql\n",
    "select *\n",
    "from employees\n",
    "where (first_name = 'Chirstian' or first_name = 'Georgi')\n",
    "and gender = 'M'\n",
    "and hire_date != '1986-06-26';\n",
    "```"
   ]
  },
  {
   "cell_type": "markdown",
   "id": "circular-language",
   "metadata": {},
   "source": [
    "# 실습 11 - 범위지정하여 검색하기\n",
    "\n",
    "지시사항\n",
    "1. 국어, 영어, 수학 점수 중 하나라도 100점인 학생을 검색해보세요.\n",
    "2. 3과목 모두 70~95점 사이인 학생을 검색해보세요.\n",
    "3. 조회할 때는 모든 컬럼을 조회하도록 합니다.\n",
    "4. score 테이블의 각 컬럼은 다음과 같습니다.\n",
    "\n",
    "|컬럼명|내용|자료형|\n",
    "|-|-|-|\n",
    "|name|이름|문자열|\n",
    "|korean|국어 성적|정수|\n",
    "|english|영어 성적|정수|\n",
    "|math|수학 성적|정수|\n",
    "\n",
    "```sql\n",
    "DESC score;\n",
    "\n",
    "-- 짜장면을 받을 수 있는 학생을 조회하는 쿼리를 작성해주세요.\n",
    "\n",
    "select *\n",
    "from score\n",
    "where korean = '100' or english = '100' or math = '100';\n",
    "\n",
    "-- 과자를 받을 수 있는 학생을 조회하는 쿼리를 작성해주세요.\n",
    "\n",
    "select *\n",
    "from score\n",
    "where 70<korean<95\n",
    "and 70<english<95\n",
    "and 70<math<95;\n",
    "```"
   ]
  },
  {
   "cell_type": "markdown",
   "id": "continent-running",
   "metadata": {},
   "source": [
    "# 실습 12 - 범위지정하여 검색하기\n",
    "\n",
    "지시사항\n",
    "1. SELECT문을 이용해서 1980년에서 1989년 사이에 입사한 직원의 모든 컬럼을 검색해보세요.\n",
    "2. SELECT문을 이용해서 1990년에서 1999년 사이에 입사한 직원의 모든 컬럼을 검색해보세요.\n",
    "\n",
    "```sql\n",
    "-- 1980~1989년도에 입사한 직원을 검색하세요.\n",
    "select *\n",
    "from employees\n",
    "where hire_date between '1980-01-01' and '1989-12-31';\n",
    "\n",
    "-- 1990~1999년도에 입사한 직원을 검색하세요.\n",
    "select *\n",
    "from employees\n",
    "where hire_date between '1990-01-01' and '1999-12-31';\n",
    "```"
   ]
  },
  {
   "cell_type": "markdown",
   "id": "eligible-burns",
   "metadata": {},
   "source": [
    "# 실습 13 - 여러 개의 or간결하게 사용하기\n",
    "\n",
    "지시사항\n",
    "1. 다음 작가가 쓴 책들만 골라서 출력해 봅시다.\n",
    "- William Shakespeare\n",
    "- John Ronald Reuel Tolkien\n",
    "- Joanne Kathleen Rowling\n",
    "2. 출력할 때는 \\*을 이용해 모든 컬럼을 출력하도록 합니다.\n",
    "3. book테이블의 각 컬럼은 다음과 같습니다.\n",
    "\n",
    "```sql\n",
    "\n",
    "DESC book;\n",
    "\n",
    "-- 해당하는 작가가 쓴 책만 골라서 출력합니다.\n",
    "select * \n",
    "from book\n",
    "where author in ('William Shakespeare', 'John Ronald Reuel Tolkien', 'Joanne Kathleen Rowling' );\n",
    "```"
   ]
  },
  {
   "cell_type": "markdown",
   "id": "strategic-cornell",
   "metadata": {},
   "source": [
    "# 실습 14 - 여러 개의 or간결하게 사용하기\n",
    "\n",
    "지시사항\n",
    "1. IN을 이용해서 다음의 이름(last_name)을 가진 사람들만 골라서 검색해봅시다.\n",
    "\n",
    "- Michaels\n",
    "- Genin\n",
    "- Peha\n",
    "2. 검색할 때는 \\*을 이용해 모든 컬럼을 검색하도록 합니다.\n",
    "\n",
    "```sql\n",
    "select *\n",
    "from employees\n",
    "where last_name in ('Michaels', 'Genin', 'Peha');\n",
    "```"
   ]
  },
  {
   "cell_type": "markdown",
   "id": "attended-wholesale",
   "metadata": {},
   "source": []
  },
  {
   "cell_type": "markdown",
   "id": "exclusive-hughes",
   "metadata": {},
   "source": []
  },
  {
   "cell_type": "markdown",
   "id": "separate-excess",
   "metadata": {},
   "source": []
  }
 ],
 "metadata": {
  "kernelspec": {
   "display_name": "Python 3.9.2 64-bit",
   "language": "python",
   "name": "python392jvsc74a57bd0aee8b7b246df8f9039afb4144a1f6fd8d2ca17a180786b69acc140d282b71a49"
  },
  "language_info": {
   "codemirror_mode": {
    "name": "ipython",
    "version": 3
   },
   "file_extension": ".py",
   "mimetype": "text/x-python",
   "name": "python",
   "nbconvert_exporter": "python",
   "pygments_lexer": "ipython3",
   "version": "3.9.2"
  }
 },
 "nbformat": 4,
 "nbformat_minor": 5
}
