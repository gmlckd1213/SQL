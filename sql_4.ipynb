{
 "cells": [
  {
   "cell_type": "markdown",
   "id": "aquatic-tower",
   "metadata": {},
   "source": [
    "# 데이터 그룹 짓기\n",
    "GROUP BY<br>\n",
    "더 잘 활용하려면 SUM, AVG, COUNT, MAX, MIN 활용"
   ]
  },
  {
   "cell_type": "markdown",
   "id": "packed-cathedral",
   "metadata": {},
   "source": [
    "### 실습1 데이터 그룹짓기 - Group By\n",
    "지시사항\n",
    "1. rental테이블의 user_id컬럼과 해당 컬럼값에 해당하는 데이터의 수를 차례대로 조회해 보세요.\n",
    "2. rental테이블의 내용은 다음과 같습니다.\n",
    "\n",
    "|컬럼명|내용|자료형|\n",
    "|-|-|-|\n",
    "|id|대여기록id|정수|\n",
    "|book_id|책id|정수|\n",
    "|user_id|사용자id|정수|\n",
    "|rental_begin_date|대출시각|날짜와 시각|\n",
    "|rental_end_date|반납시간|날짜와 시각|\n",
    "\n",
    "```sql\n",
    "DESC rental;\n",
    "\n",
    "SELECT user_id, count(*)\n",
    "from rental\n",
    "group by user_id\n",
    "```\n"
   ]
  },
  {
   "cell_type": "markdown",
   "id": "finite-armstrong",
   "metadata": {},
   "source": [
    "### 실습2 데이터 그룹짓기 - Group By\n",
    "지시사항\n",
    "1. salaries테이블에서 GROUP BY문을 이용해 직원별로 몇 번의 연봉을 받았는지 확인해 봅시다.\n",
    "2. salaries 테이블의 emp_no 컬럼과 해당 컬럼값에 해당하는 데이터의 수를 차례대로 검색해보세요.\n",
    "\n",
    "```sql\n",
    "SELECT emp_no, count(salary)\n",
    "FROM salaries\n",
    "group by emp_no\n",
    "```\n"
   ]
  },
  {
   "cell_type": "markdown",
   "id": "changed-hampshire",
   "metadata": {},
   "source": [
    "# 데이터 그룹에 조건을 적용 할려면?\n",
    "\n",
    "HAVING"
   ]
  },
  {
   "cell_type": "markdown",
   "id": "documented-brighton",
   "metadata": {},
   "source": [
    "### 실습3 데이터 그룹에 조건 적용 - Having\n",
    "지시사항\n",
    "1. rental테이블의 user_id 컬럼과 해당 컬럼값에 해당하는 데이터의 수를 차례대로 출력해 보세요.\n",
    "2. 출력할 때 데이터의 수가 2 이상인 경우만 출력하도록 해 보세요.\n",
    "3. rental테이블의 내용은 다음과 같습니다.\n",
    "\n",
    "|컬럼명|내용|자료형|\n",
    "|-|-|-|\n",
    "|id|대여기록id|정수|\n",
    "|book_id|책id|정수|\n",
    "|user_id|사용자id|정수|\n",
    "|rental_begin_date|대출시각|날짜와 시각|\n",
    "|rental_end_date|반납시간|날짜와 시각|\n",
    "\n",
    "```sql\n",
    "DESC rental;\n",
    "\n",
    "SELECT user_id, count(*)\n",
    "FROM rental\n",
    "GROUP BY user_id\n",
    "HAVING count(user_id)>1\n",
    "```"
   ]
  },
  {
   "cell_type": "markdown",
   "id": "associate-potential",
   "metadata": {},
   "source": [
    "### 실습4 데이터 그룹에 조건 적용 - HAVING\n",
    "지시사항\n",
    "1. salaries 테이블에서 HAVING을 이용해 연봉을 10번 이상 받은 직원만 검색해보세요.\n",
    "2. salaries 테이블의 emp_no 컬럼과 해당 컬럼값에 해당하는 데이터의 수를 차례대로 검색해보세요.\n",
    "\n",
    "```sql\n",
    "select emp_no, count(*)\n",
    "from salaries\n",
    "group by emp_no\n",
    "having count(emp_no)>9;\n",
    "```"
   ]
  },
  {
   "cell_type": "markdown",
   "id": "unlikely-choice",
   "metadata": {},
   "source": [
    "# 두 테이블의 정보를 한번에 조회\n",
    "\n",
    "INNER JOIN<br>\n",
    "ON을 써서 조건을 적용할 수 있음"
   ]
  },
  {
   "cell_type": "markdown",
   "id": "behind-worship",
   "metadata": {},
   "source": [
    "### 실습5 두 테이블간 교집합 - INNER JOIN\n",
    "지시사항\n",
    "1. rental테이블의 모든 컬럼을 조회하되 user테이블과 연결해 조회해 보세요.\n",
    "2. rental테이블의 내용은 다음과 같습니다.\n",
    "\n",
    "|컬럼명|내용|자료형|\n",
    "|-|-|-|\n",
    "|id|대여기록id|정수|\n",
    "|book_id|책id|정수|\n",
    "|user_id|사용자id|정수|\n",
    "|rental_begin_date|대출시각|날짜와 시각|\n",
    "|rental_end_date|반납시간|날짜와 시각|\n",
    "\n",
    "3. user테이블의 내용은 다음과 같습니다.\n",
    "\n",
    "|컬럼명|내용|자료형|\n",
    "|-|-|-|\n",
    "|id|id|정수|\n",
    "|name|이름|문자열|\n",
    "|email|이메일|문자열|\n",
    "|phone|전화번호|문자열|\n",
    "|address|주소|문자열|\n",
    "\n",
    "```sql\n",
    "SELECT *\n",
    "FROM rental\n",
    "INNER JOIN user;\n",
    "```\n"
   ]
  },
  {
   "cell_type": "markdown",
   "id": "mounted-dylan",
   "metadata": {},
   "source": [
    "### 실습6 두 테이블간 교집합 - INNER JOIN\n",
    "지시사항\n",
    "1. \\*을 사용해 rental 테이블의 모든 컬럼을 조회하되 user테이블과 연결해 조회해 보세요.\n",
    "2. 연결할 때에는 user테이블의 id와 rental테이블의 user_id를 기준으로 연결해 보세요.\n",
    "3. rental테이블의 내용은 다음과 같습니다.\n",
    "\n",
    "|컬럼명|내용|자료형|\n",
    "|-|-|-|\n",
    "|id|대여기록id|정수|\n",
    "|book_id|책id|정수|\n",
    "|user_id|사용자id|정수|\n",
    "|rental_begin_date|대출시각|날짜와 시각|\n",
    "|rental_end_date|반납시간|날짜와 시각|\n",
    "\n",
    "4. user 테이블의 내용은 다음과 같습니다.\n",
    "\n",
    "|컬럼명|내용|자료형|\n",
    "|-|-|-|\n",
    "|id|id|정수|\n",
    "|name|이름|문자열|\n",
    "|email|이메일|문자열|\n",
    "|phone|전화번호|문자열|\n",
    "|address|주소|문자열|\n",
    "\n",
    "```sql\n",
    "SELECT *\n",
    "FROM rental\n",
    "INNER JOIN user\n",
    "ON renatl.user_id = user.id\n",
    "```\n",
    "\n",
    "\n"
   ]
  },
  {
   "cell_type": "markdown",
   "id": "intermediate-alert",
   "metadata": {},
   "source": [
    "### 실습7 두 테이블간 교집합 - INNER JOIN\n",
    "지시사항\n",
    "1. INNER JOIN을 이용해 두 테이블 salaries 테이블과 employees 테이블을 연결하여 검색해보세요.\n",
    "2. 연결할 때는 salaries 테이블의 emp_no와 employees 테이블의 emp_no를 기준으로 연결해 보세요.\n",
    "3. salaries 테이블의 모든 컬럼을 검색하되 employees 테이블과 연결해 검색해 보세요.\n",
    "\n",
    "```sql\n",
    "SELECT*\n",
    "FROM salaries\n",
    "INNER JOIN employees\n",
    "ON salaries.emp_no = employees.emp_no;\n",
    "```"
   ]
  },
  {
   "cell_type": "markdown",
   "id": "wireless-volume",
   "metadata": {},
   "source": [
    "# 왼쪽 테이블의 모든 값을 포함하여 연결하기\n",
    "LEFT JOIN"
   ]
  },
  {
   "cell_type": "markdown",
   "id": "superior-carolina",
   "metadata": {},
   "source": [
    "### 실습8 왼쪽 테이블의 모든 값과 교집합 - LEFT JOIN\n",
    "지시사항\n",
    "1. rental테이블의 모든 컬럼을 조회하되 user테이블과 연결해 조회해 보세요.\n",
    "2. 연결할 때에는 user테이블의 id와 rental테이블의 user_id를 기준으로 연결해 보세요.\n",
    "3. 이때 rental테이블이 중심이 되도록 연결해 보세요.\n",
    "4. rental테이블의 내용은 다음과 같습니다.\n",
    "\n",
    "|컬럼명|내용|자료형|\n",
    "|-|-|-|\n",
    "|id|대여기록id|정수|\n",
    "|book_id|책id|정수|\n",
    "|user_id|사용자id|정수|\n",
    "|rental_begin_date|대출시각|날짜와 시각|\n",
    "|rental_end_date|반납시간|날짜와 시각|\n",
    "\n",
    "4. user 테이블의 내용은 다음과 같습니다.\n",
    "\n",
    "|컬럼명|내용|자료형|\n",
    "|-|-|-|\n",
    "|id|id|정수|\n",
    "|name|이름|문자열|\n",
    "|email|이메일|문자열|\n",
    "|phone|전화번호|문자열|\n",
    "|address|주소|문자열|\n",
    "\n",
    "```sql\n",
    "SELECT * \n",
    "FROM rental\n",
    "LEFT JOIN user\n",
    "ON rental.user_id = user.id;\n",
    "\n",
    "```\n"
   ]
  },
  {
   "cell_type": "markdown",
   "id": "public-harrison",
   "metadata": {},
   "source": [
    "### 실습9 왼쪽 테이블의 모든 값과 교집합 - LEFT JOIN\n",
    "지시사항\n",
    "1. salaries 테이블의 모든 컬럼을 검색하되 employees 테이블과 연결해 검색해 보세요.\n",
    "2. 연결할 때에는 salaries 테이블의 emp_no와 employees 테이블의 emp_no를 기준으로 연결해 보세요.\n",
    "3. 이때 LEFT JOIN을 이용해 salaries 테이블이 중심이 되도록 연결해 보세요.\n",
    "\n",
    "```sql\n",
    "SELECT * \n",
    "FROM salaries\n",
    "LEFT JOIN employees\n",
    "ON salaries.emp_no = employees.emp_no\n",
    "\n",
    "\n",
    "```"
   ]
  },
  {
   "cell_type": "markdown",
   "id": "designed-fluid",
   "metadata": {},
   "source": [
    "# 오른쪽 테이블의 모든 값을 포함하여 연결하기\n",
    "RIGHT JOIN"
   ]
  },
  {
   "cell_type": "markdown",
   "id": "handy-kentucky",
   "metadata": {},
   "source": [
    "### 실습 10 오른쪽 테이블 의 모든 값과 교집합 - RIGHT JOIN\n",
    "지시사항\n",
    "1. rental테이블의 모든 컬럼을 조회하되 user테이블과 연결해 조회해 보세요.\n",
    "2. 연결할 때에는 user테이블의 id와 rental테이블의 user_id를 기준으로 연결해 보세요.\n",
    "3. 이때 user테이블의 id가 모두 조회 되도록 RIGHT JOIN을 이용해 연결해 보세요.\n",
    "4. rental테이블의 내용은 다음과 같습니다.\n",
    "\n",
    "|컬럼명|내용|자료형|\n",
    "|-|-|-|\n",
    "|id|대여기록id|정수|\n",
    "|book_id|책id|정수|\n",
    "|user_id|사용자id|정수|\n",
    "|rental_begin_date|대출시각|날짜와 시각|\n",
    "|rental_end_date|반납시간|날짜와 시각|\n",
    "\n",
    "4. user 테이블의 내용은 다음과 같습니다.\n",
    "\n",
    "|컬럼명|내용|자료형|\n",
    "|-|-|-|\n",
    "|id|id|정수|\n",
    "|name|이름|문자열|\n",
    "|email|이메일|문자열|\n",
    "|phone|전화번호|문자열|\n",
    "|address|주소|문자열|\n",
    "\n",
    "```sql\n",
    "SELECT *\n",
    "FROM rental\n",
    "RIGHT JOIN user\n",
    "ON user.id = rental.user_id\n",
    "```"
   ]
  },
  {
   "cell_type": "markdown",
   "id": "elementary-bearing",
   "metadata": {},
   "source": [
    "### 실습 11 오른쪽 테이블 의 모든 값과 교집합 - RIGHT JOIN\n",
    "지시사항\n",
    "1. salaries 테이블의 모든 컬럼을 검색하되 employees 테이블과 연결해 검색해 보세요.\n",
    "2. 연결할 때에는 salaries 테이블의 emp_no와 employees 테이블의 emp_no를 기준으로 연결해 보세요.\n",
    "3. 이때 employees 테이블이 중심이 되도록 연결해 보세요.\n",
    "\n",
    "```sql\n",
    "SELECT * \n",
    "FROM salaries\n",
    "RIGHT JOIN employees\n",
    "ON salaries.emp_no = employees.emp_no\n",
    "```"
   ]
  },
  {
   "cell_type": "markdown",
   "id": "cardiovascular-namibia",
   "metadata": {},
   "source": []
  },
  {
   "cell_type": "markdown",
   "id": "statistical-change",
   "metadata": {},
   "source": []
  },
  {
   "cell_type": "markdown",
   "id": "freelance-nickel",
   "metadata": {},
   "source": []
  },
  {
   "cell_type": "markdown",
   "id": "fourth-holocaust",
   "metadata": {},
   "source": []
  },
  {
   "cell_type": "markdown",
   "id": "massive-landing",
   "metadata": {},
   "source": []
  },
  {
   "cell_type": "markdown",
   "id": "sexual-joint",
   "metadata": {},
   "source": []
  }
 ],
 "metadata": {
  "kernelspec": {
   "display_name": "Python 3.9.2 64-bit",
   "language": "python",
   "name": "python392jvsc74a57bd0aee8b7b246df8f9039afb4144a1f6fd8d2ca17a180786b69acc140d282b71a49"
  },
  "language_info": {
   "codemirror_mode": {
    "name": "ipython",
    "version": 3
   },
   "file_extension": ".py",
   "mimetype": "text/x-python",
   "name": "python",
   "nbconvert_exporter": "python",
   "pygments_lexer": "ipython3",
   "version": "3.9.2"
  }
 },
 "nbformat": 4,
 "nbformat_minor": 5
}
