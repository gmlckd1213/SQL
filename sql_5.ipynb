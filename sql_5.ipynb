{
 "cells": [
  {
   "cell_type": "markdown",
   "id": "applicable-roller",
   "metadata": {},
   "source": [
    "# 서브쿼리?\n",
    "\n",
    "하나의 쿼리 안에 포함된 또 하나의 쿼리<br>\n",
    "메인 쿼리가 서브쿼리를 포함하는 종속적인 관계<br>\n",
    "<br>\n",
    "<br>\n",
    "## 서브쿼리 특징\n",
    "\n",
    "- 알려지지 않은 기준을 이용한 검색에 유용\n",
    "- 메인 쿼리가 실행되기 이전에 한 번만 실행\n",
    "- 한 문장에서 여러 번 사용 가능\n",
    "\n",
    "<br>\n",
    "<br>\n",
    "\n",
    "## 서브쿼리 사용 시 주의 사항\n",
    "\n",
    "1. 서브쿼리는 괄호와 함께 사용되어야 한다.\n",
    "2. 서브쿼리 안에서 ORDER BY 절은 사용할 수 없다.\n",
    "3. 서브쿼리는 연산자의 오른쪽에 사용되어야 한다.\n",
    "4. 서브쿼리는 오로지 SELECT문으로만 작성 할 수 있다."
   ]
  },
  {
   "cell_type": "markdown",
   "id": "entitled-westminster",
   "metadata": {},
   "source": [
    "# 단일 행 서브쿼리\n",
    "\n",
    "결과가 한 행만 나오는 서브쿼리<br>\n",
    "서브쿼리가 결과를 1개의 값만 반환하고, 이 결과를 메인쿼리로 전달하는 쿼리"
   ]
  },
  {
   "cell_type": "markdown",
   "id": "informed-popularity",
   "metadata": {},
   "source": [
    "### 단일 행 서브쿼리 1\n",
    "지시사항\n",
    "1. emp테이블을 조회해주세요.\n",
    "2. 사원 번호가 7인 사원보다 나이가 어린 사원을 조회하는 쿼리를 작성하세요.\n",
    "\n",
    "```sql\n",
    "SELECT * FROM emp;\n",
    "SELECT * \n",
    "FROM emp\n",
    "WHERE birthdate>\n",
    "(SELECT birhtdate\n",
    "FROM emp\n",
    "WHERE empnum = 7);\n",
    "```"
   ]
  },
  {
   "cell_type": "markdown",
   "id": "prime-average",
   "metadata": {},
   "source": [
    "### 단일 행 서브쿼리 2\n",
    "지시사항\n",
    "1. emp테이블을 조회해주세요.\n",
    "2. 전 사원의 급여 평균보다 낮은 급여를 받는 사원을 조회하는 쿼리를 작성하세요.\n",
    "\n",
    "```sql\n",
    "SELECT * FROM emp;\n",
    "\n",
    "SELECT * \n",
    "FROM emp\n",
    "WHERE sal<\n",
    "(SELECT avg(sal)\n",
    " FROM emp)\n",
    "```"
   ]
  },
  {
   "cell_type": "markdown",
   "id": "authorized-appearance",
   "metadata": {},
   "source": [
    "### 단일 행 서브쿼리 3\n",
    "지시사항<br>\n",
    "emp테이블에서 부서번호가 40인 부서의 급여 평균보다 높게 받는 사원들의 모든 컬럼과 나이를 조회하는 쿼리를 작성해주세요.\n",
    "\n",
    "```sql\n",
    "SELECT *,\n",
    "FLOOR( (CAST(REPLACE(CURRENT_DATE,'-','') AS UNSIGNED) - \n",
    "       CAST(REPLACE(birthdate,'-','') AS UNSIGNED)) / 10000 ) as age\n",
    "FROM emp\n",
    "\n",
    "WHERE sal >\n",
    "\n",
    "(SELECT avg(sal)\n",
    "FROM emp\n",
    "WHERE deptno = 40);\n",
    "\n",
    "```\n"
   ]
  },
  {
   "cell_type": "markdown",
   "id": "directed-conviction",
   "metadata": {},
   "source": [
    "# 다중 행 서브쿼리\n",
    "\n",
    "결과가 한 행만 나오는 단일 행 서브쿼리와는 다르게 서브쿼리가 겨로가를 2개 이상 반환하고, 이 결과를 메인쿼리로 전달하는 쿼리\n",
    "<br>\n",
    "\n",
    "|기호|뜻|\n",
    "|-|-|\n",
    "|IN|하나라도 만족하면 반환|\n",
    "|ANY|하나라도 만족하면 반환 비교 연산 가능|\n",
    "|ALL|모두 만족하면 반환 비교 연산 가능|"
   ]
  },
  {
   "cell_type": "markdown",
   "id": "valued-point",
   "metadata": {},
   "source": [
    "### 다중 행 서브쿼리 1\n",
    "지시사항<br>\n",
    "emp테이블에서 'MANAGER' 업무를 가진 사원 중 제일 높은 급여를 받는 사원보다 높은 급여를 받는 사원의 모든 컬럼을 조회하는 쿼리를 작성 해주세요.\n",
    "\n",
    "```sql\n",
    "SELECT * FROM emp;\n",
    "\n",
    "SELECT *\n",
    "FROM emp\n",
    "WHERE sal>\n",
    "(SELECT max(sal)\n",
    " FROM emp\n",
    " WHERE job = 'manager'\n",
    " );\n",
    "```"
   ]
  },
  {
   "cell_type": "markdown",
   "id": "center-anger",
   "metadata": {},
   "source": [
    "### 다중 행 서브쿼리 2\n",
    "지시사항<br>\n",
    "emp테이블에서 각 부서별 급여를 제일 많이 받는 사원들을 출력해주세요.\n",
    "\n",
    "```sql\n",
    "SELECT * FROM emp;\n",
    "\n",
    "SELECT *\n",
    "FROM emp\n",
    "WHERE sal = any(\n",
    "SELECT max(sal)\n",
    "FROM emp\n",
    "GROUP BY deptno)\n",
    "```"
   ]
  },
  {
   "cell_type": "markdown",
   "id": "blocked-wages",
   "metadata": {},
   "source": [
    "### 다중 행 서브쿼리 3\n",
    "지시사항<br>\n",
    "emp테이블에서 각 부서별 나이가 제일 많은 사원의 모든 컬럼을 조회하는 쿼리를 작성해주세요.\n",
    "\n",
    "```sql\n",
    "SELECT * FROM emp;\n",
    "\n",
    "SELECT *\n",
    "FROM emp\n",
    "WHERE birthdate = any(\n",
    "SELECT *\n",
    "FROM emp\n",
    "GROUP BY deptno)\n",
    "```"
   ]
  },
  {
   "cell_type": "markdown",
   "id": "royal-pharmacy",
   "metadata": {},
   "source": [
    "### 하나? 혹은 전부?\n",
    "지시사항\n",
    "1. salaries테이블에서 시작일(from_date)이 '2000-12-31' 이전인 사람들의 급여 중 하나의 급여 보다 더 적은 급여를 받은 직원의 급여 정보를 모두 검색해봅시다.\n",
    "2. salaries테이블에서 시작일(from_date)이 '2000-12-31' 이전인 사람들의 급여 중 모든 급여보다 적은 급여를 받은 직원의 급여에 대한 정보를 모두 검색해봅시다.\n",
    "\n",
    "```sql\n",
    "SELECT *\n",
    "FROM salaries\n",
    "WHERE salary < any(\n",
    "SELECT salary\n",
    "FROM salries\n",
    "WHERE to_date < '2000-12-31');\n",
    "\n",
    "SELECT *\n",
    "FROM salaries\n",
    "WHERE salary < all(\n",
    "SELECT salary\n",
    "FROM salaries\n",
    "WHERE to_date < '2000-12-31');\n",
    "```"
   ]
  },
  {
   "cell_type": "markdown",
   "id": "approved-affiliation",
   "metadata": {},
   "source": [
    "# 스칼라 서브쿼리\n",
    "\n",
    "SELECT 절에서 사용하는 서브쿼리<br>\n",
    "스칼라 서브쿼리는 오로지 한 행만 반환<br>\n",
    "마치 JOIN을 사용한 것 과 같은 결과를 나타낸다."
   ]
  },
  {
   "cell_type": "markdown",
   "id": "checked-immigration",
   "metadata": {},
   "source": [
    "### 스칼라 서브쿼리\n",
    "지시사항\n",
    "1. salaries 테이블에서 직원 번호(emp_no)과 평균급여(avg_salary) 두 가지를 검색합니다.\n",
    "2. 평균 급여는 SELECT 절에서 서브쿼리를 이용해 직접 계산하며 별칭을 avg_salary로 지정합니다.\n",
    "3. 중복 없이 검색하기 위해 DISTINCT 를 이용하세요.\n",
    "\n",
    "```sql\n",
    "SELECT DISTINCT emp_no,\n",
    "(\n",
    "SELECT avg(salary)\n",
    "FROM salaries AS A\n",
    "WHERE A.emp_no = B.emp_no\n",
    ") AS avg_salary\n",
    "\n",
    "FROM salaries AS B;\n",
    "\n",
    "```"
   ]
  },
  {
   "cell_type": "markdown",
   "id": "characteristic-scheduling",
   "metadata": {},
   "source": [
    "### 중간고사 수학왕!\n",
    "지시사항\n",
    "1. middle_test테이블에서 10504학번인 경민이보다 중간고사 수학점수를 높거나 같게 받은 학생들을 조회해 주세요.\n",
    "2. middle_test 테이블과 students 테이블을 join하여 진행하셔야 합니다.\n",
    "\n",
    "```sql\n",
    "SELECT *\n",
    "FROM middle_test\n",
    "INNER JOIN students\n",
    "ON middle_test.student_id =\n",
    "students.student_id\n",
    "WHERE math >= all\n",
    "(\n",
    "SELECT math\n",
    "FROM middle_test\n",
    "WHERE student_id = '10504'\n",
    "    )\n",
    "```\n"
   ]
  },
  {
   "cell_type": "markdown",
   "id": "aquatic-suspect",
   "metadata": {},
   "source": []
  },
  {
   "cell_type": "markdown",
   "id": "worthy-consolidation",
   "metadata": {},
   "source": []
  },
  {
   "cell_type": "markdown",
   "id": "civilian-quality",
   "metadata": {},
   "source": []
  },
  {
   "cell_type": "markdown",
   "id": "processed-mitchell",
   "metadata": {},
   "source": []
  },
  {
   "cell_type": "markdown",
   "id": "seventh-attraction",
   "metadata": {},
   "source": []
  },
  {
   "cell_type": "markdown",
   "id": "burning-stomach",
   "metadata": {},
   "source": []
  }
 ],
 "metadata": {
  "kernelspec": {
   "display_name": "Python 3.9.2 64-bit",
   "language": "python",
   "name": "python392jvsc74a57bd0aee8b7b246df8f9039afb4144a1f6fd8d2ca17a180786b69acc140d282b71a49"
  },
  "language_info": {
   "codemirror_mode": {
    "name": "ipython",
    "version": 3
   },
   "file_extension": ".py",
   "mimetype": "text/x-python",
   "name": "python",
   "nbconvert_exporter": "python",
   "pygments_lexer": "ipython3",
   "version": "3.9.2"
  }
 },
 "nbformat": 4,
 "nbformat_minor": 5
}
