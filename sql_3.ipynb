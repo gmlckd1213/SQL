{
 "cells": [
  {
   "cell_type": "markdown",
   "id": "beautiful-coral",
   "metadata": {},
   "source": [
    "# 데이터 개수 세어보기\n",
    "\n",
    "COUNT : 검색한 결과의 데이터의 개수를 가져오는 내장함수(NULL인 데이터는 제외)"
   ]
  },
  {
   "cell_type": "markdown",
   "id": "express-glance",
   "metadata": {},
   "source": [
    "### 실습1 데이터 세어보기\n",
    "지시사항\n",
    "1. book 테이블을 COUNT함수와 \\*을 이용해 조회해 봅시다.\n",
    "2. user 테이블을 COUNT함수와 \\*을 이용해 조회해 봅시다.\n",
    "\n",
    "```sql\n",
    "#user테이블의 자료의 수를 차례대로 조회해 봅시다.\n",
    "select count(*)\n",
    "from book;\n",
    "\n",
    "select count(*)\n",
    "from user;\n",
    "```"
   ]
  },
  {
   "cell_type": "markdown",
   "id": "referenced-worth",
   "metadata": {},
   "source": [
    "### 실습2 데이터 세어보기\n",
    "지시사항<br>\n",
    "employees 테이블을 COUNT함수와 \\*을 이용해 검색해봅시다.\n",
    "\n",
    "```sql\n",
    "select count(*)\n",
    "from employees\n",
    "```"
   ]
  },
  {
   "cell_type": "markdown",
   "id": "demographic-concentrate",
   "metadata": {},
   "source": [
    "# 데이터 일부만 출력하기\n",
    "\n",
    "LIMIT : 테이블에서 출력하고자 하는 데이터의 개수를 제한하는 명령"
   ]
  },
  {
   "cell_type": "markdown",
   "id": "second-bishop",
   "metadata": {},
   "source": [
    "### 실습3 데이터 상단 값만 출력\n",
    "지시사항\n",
    "1. book테이블에서 LIMIT를 덧붙여 책 정보 5개만을 조회해보세요.\n",
    "2. 출력할 때는 모든 컬럼을 조회하도록 합시다.\n",
    "3. book테이블의 내용은 다음과 같습니다.\n",
    "\n",
    "|컬럼명|내용|자료형|\n",
    "|-|-|-|\n",
    "|id|id|정수|\n",
    "|title|제목|문자열|\n",
    "|author|저자|문자열|\n",
    "|publisher|출판사|문자열|\n",
    "|date_recieved|구매일|날짜|\n",
    "\n",
    "```sql\n",
    "-- book테이블의 모든 컬럼을 조회해 봅시다. 단 5권만 잘라서 출력해야 합니다.\n",
    "select *\n",
    "from book\n",
    "limit 5\n",
    "```"
   ]
  },
  {
   "cell_type": "markdown",
   "id": "civil-machinery",
   "metadata": {},
   "source": [
    "# 데이터의 합 구하기\n",
    "\n",
    "SUM : 지정한 컬럼들의 값을 모두 더하여 총점을 구해주는 내장함수"
   ]
  },
  {
   "cell_type": "markdown",
   "id": "vocal-mountain",
   "metadata": {},
   "source": [
    "### 실습4 데이터 합 구하기 \n",
    "지시사항<br>\n",
    "salaries 테이블에서 salary의 합을 구해서 검색해봅시다.\n",
    "\n",
    "```sql\n",
    "-- salary테이블의 연봉의 합을 구해봅시다.\n",
    "\n",
    "select sum(salary)\n",
    "from salaries\n",
    "```"
   ]
  },
  {
   "cell_type": "markdown",
   "id": "accepted-bridge",
   "metadata": {},
   "source": [
    "# 데이터의 평균 구하기\n",
    "\n",
    "AVG : 지정한 컬럼들의 평균값을 구해주는 내장함수"
   ]
  },
  {
   "cell_type": "markdown",
   "id": "advance-modification",
   "metadata": {},
   "source": [
    "### 실습5 데이터 평균 구하기\n",
    "지시사항\n",
    "1. grade 테이블에서 모든 국어 점수의 평균, 모든 영어 점수의 평균, 모든 수학 점수의 평균 총 세개의 값을 구해봅시다.\n",
    "2. 국어, 영어, 수학 순서로 하나의 SELECT문을 이용해 조회합니다.\n",
    "3. grade테이블의 각 컬럼은 다음과 같습니다.\n",
    "\n",
    "|컬럼명|내용|자료형|\n",
    "|-|-|-|\n",
    "|name|이름|문자열|\n",
    "|korean|국어성적|정수|\n",
    "|english|영어성적|정수\n",
    "|math|수학성적|정수|\n",
    "\n",
    "```sql\n",
    "\n",
    "DESC grade;\n",
    "-- 학생들의 성적의 평균을 조회합니다.\n",
    "select avg(korean), avg(english), avg(math)\n",
    "from grade;\n",
    "```"
   ]
  },
  {
   "cell_type": "markdown",
   "id": "collected-product",
   "metadata": {},
   "source": [
    "### 실습 6 데이터 평균 구하기\n",
    "지시사항<br>\n",
    "salaries 테이블에서 salary의 평균을 구해서 검색해봅시다.\n",
    "\n",
    "```sql\n",
    "\n",
    "select avg(salary)\n",
    "from salaries\n",
    "```\n"
   ]
  },
  {
   "cell_type": "markdown",
   "id": "radio-touch",
   "metadata": {},
   "source": [
    "# 데이터 최댓값 찾기\n",
    "\n",
    "MAX : 테이블에 존재하는 데이터에서 최댓값을 가져오는 내장함수(숫자형 뿐만 아니라 문자형도 가능)"
   ]
  },
  {
   "cell_type": "markdown",
   "id": "wound-senate",
   "metadata": {},
   "source": [
    "### 실습7 데이터 최대값 찾기\n",
    "지시사항\n",
    "1. 국어시험에서 가장 높은 점수가 몇 점이었는지 student테이블에서 조회해보세요.\n",
    "2. student테이블의 각 컬럼은 다음과 같습니다.\n",
    "\n",
    "|컬럼명|내용|자료형|\n",
    "|-|-|-|\n",
    "|name|이름|문자열|\n",
    "|korean|국어성적|정수|\n",
    "|english|영어성적|정수\n",
    "|math|수학성적|정수|\n",
    "\n",
    "```sql\n",
    "\n",
    "DESC student;\n",
    "\n",
    "SELECT max(korean)\n",
    "FROM student;\n",
    "```"
   ]
  },
  {
   "cell_type": "markdown",
   "id": "cardiovascular-postcard",
   "metadata": {},
   "source": [
    "# 데이터 최솟값 찾기\n",
    "\n",
    "MIN : 테이블에 존재하는 데이터에서 최솟값을 가져오는 내장함수(숫자형뿐만 아니라 문자형도 가능)"
   ]
  },
  {
   "cell_type": "markdown",
   "id": "signed-assembly",
   "metadata": {},
   "source": [
    "### 실습8 데이터 최솟값 찾기\n",
    "지시사항<br>\n",
    "salaries테이블에서 MIN함수를 이용해 가장 적은 연봉액(salary)을 구해봅시다.\n",
    "\n",
    "```sql\n",
    "SELECT min(salary)\n",
    "FROM salaries\n",
    "```"
   ]
  },
  {
   "cell_type": "markdown",
   "id": "gentle-worship",
   "metadata": {},
   "source": []
  },
  {
   "cell_type": "markdown",
   "id": "great-charger",
   "metadata": {},
   "source": []
  },
  {
   "cell_type": "markdown",
   "id": "resistant-inquiry",
   "metadata": {},
   "source": []
  },
  {
   "cell_type": "markdown",
   "id": "gentle-pontiac",
   "metadata": {},
   "source": []
  },
  {
   "cell_type": "markdown",
   "id": "promotional-petroleum",
   "metadata": {},
   "source": []
  },
  {
   "cell_type": "markdown",
   "id": "unexpected-sudan",
   "metadata": {},
   "source": []
  },
  {
   "cell_type": "markdown",
   "id": "different-equation",
   "metadata": {},
   "source": []
  },
  {
   "cell_type": "markdown",
   "id": "canadian-dynamics",
   "metadata": {},
   "source": []
  },
  {
   "cell_type": "markdown",
   "id": "revised-boulder",
   "metadata": {},
   "source": []
  },
  {
   "cell_type": "markdown",
   "id": "buried-hostel",
   "metadata": {},
   "source": []
  }
 ],
 "metadata": {
  "kernelspec": {
   "display_name": "Python 3.9.2 64-bit",
   "language": "python",
   "name": "python392jvsc74a57bd0aee8b7b246df8f9039afb4144a1f6fd8d2ca17a180786b69acc140d282b71a49"
  },
  "language_info": {
   "codemirror_mode": {
    "name": "ipython",
    "version": 3
   },
   "file_extension": ".py",
   "mimetype": "text/x-python",
   "name": "python",
   "nbconvert_exporter": "python",
   "pygments_lexer": "ipython3",
   "version": "3.9.2"
  }
 },
 "nbformat": 4,
 "nbformat_minor": 5
}
