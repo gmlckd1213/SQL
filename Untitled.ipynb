{
 "cells": [
  {
   "cell_type": "markdown",
   "id": "aquatic-today",
   "metadata": {},
   "source": [
    "# 데이터에서 유사한 값을 찾고 싶을 때?\n",
    "\n",
    "LIKE : 특정 문자가 포함된 문자열을 찾고 싶을 때 사용하는 명령\n",
    "- LIKE '%왕자' : '왕자'로 끝나는 책 검색\n",
    "- LIKE '왕자%' : '왕자'로 시작하는 책 검색\n",
    "- LIKE '%왕자%' : '왕자'가 포함되는 책 검색"
   ]
  },
  {
   "cell_type": "markdown",
   "id": "literary-denmark",
   "metadata": {},
   "source": [
    "### 실습1 데이터에서 유사한 값 찾기 - like\n",
    "\n",
    "지시사항\n",
    "1. employees 테이블에서 '1997-07-07' 일 입사한 회원을 검색해보세요.\n",
    "2. 검색할 때는 모든 컬럼을 검색하도록 합시다.\n",
    "\n",
    "```sql\n",
    "select * \n",
    "from employees\n",
    "where\n",
    "hire_date like '1997-07-07'\n",
    "```\n"
   ]
  },
  {
   "cell_type": "markdown",
   "id": "beneficial-average",
   "metadata": {},
   "source": [
    "### 실습2 데이터에서 유사한 값 찾기 - like\n",
    "\n",
    "지시사항\n",
    "1. book테이블에서 The Little로 시작하는 책을 검색해보세요.\n",
    "2. book테이블에서 and가 포함된 책을 검색해보세요.\n",
    "3. book테이블에서 Rings로 끝나는 책을 검색해보세요.\n",
    "4. 출력할 때는 모든 컬럼을 출력하도록 합시다.\n",
    "5. book테이블의 각 컬럼은 다음과 같습니다.\n",
    "\n",
    "|컬럼명|내용|자료형|\n",
    "|-|-|-|\n",
    "|id|id|정수|\n",
    "|title|제목|문자열|\n",
    "|author|저자|문자열|\n",
    "|publisher|출판사|문자열|\n",
    "|date_recieved|구매일|날짜|\n",
    "\n",
    "```sql\n",
    "-- 책들의 정보가 담겨있는 테이블의 구조를 조회합니다. 수정하실 필요는 없습니다.\n",
    "DESC book;\n",
    "-- 아래에 제목이 The Little로 시작하는 책만 조회하는 쿼리를 작성해주세요.\n",
    "select *\n",
    "from book\n",
    "where title like 'The Little%';\n",
    "-- 아래에 제목에 and가 포함된 책만 조회하는 쿼리를 작성해주세요.\n",
    "select *\n",
    "from book\n",
    "where title like '%and%';\n",
    "-- 아래에 제목이 Rings로 끝나는 책만 조회하는 쿼리를 작성해주세요.\n",
    "select *\n",
    "from book\n",
    "where title like '%Rings';\n",
    "```"
   ]
  },
  {
   "cell_type": "markdown",
   "id": "satellite-homework",
   "metadata": {},
   "source": [
    "### 실습3 데이터에서 유사한 값 찾기 - like\n",
    "\n",
    "지시사항\n",
    "1. employees 테이블에서 hire_date에 7이 들어가는 직원들을 검색해보세요.\n",
    "2. 검색할 때는 모든 컬럼을 검색하도록 합시다.\n",
    "\n",
    "```sql\n",
    "select *\n",
    "from employees\n",
    "where hire_date like '%7%'\n",
    "```"
   ]
  },
  {
   "cell_type": "markdown",
   "id": "understanding-assets",
   "metadata": {},
   "source": [
    "# 데이터 정렬하기\n",
    "\n",
    "ORDER BY : 데이터를 검색할 때 정렬하여 결과를 출력하는 명령어<br>\n",
    "기본적으로 DESC -> 높은 데이터부터 정렬하여 검색"
   ]
  },
  {
   "cell_type": "markdown",
   "id": "fresh-beads",
   "metadata": {},
   "source": []
  },
  {
   "cell_type": "markdown",
   "id": "removable-pattern",
   "metadata": {},
   "source": []
  },
  {
   "cell_type": "markdown",
   "id": "greatest-nightmare",
   "metadata": {},
   "source": []
  },
  {
   "cell_type": "markdown",
   "id": "subject-print",
   "metadata": {},
   "source": []
  },
  {
   "cell_type": "markdown",
   "id": "younger-concert",
   "metadata": {},
   "source": []
  },
  {
   "cell_type": "markdown",
   "id": "stone-timothy",
   "metadata": {},
   "source": []
  },
  {
   "cell_type": "markdown",
   "id": "golden-means",
   "metadata": {},
   "source": []
  },
  {
   "cell_type": "markdown",
   "id": "secure-sewing",
   "metadata": {},
   "source": []
  },
  {
   "cell_type": "markdown",
   "id": "strange-dimension",
   "metadata": {},
   "source": []
  },
  {
   "cell_type": "markdown",
   "id": "caroline-thriller",
   "metadata": {},
   "source": []
  },
  {
   "cell_type": "markdown",
   "id": "assisted-tonight",
   "metadata": {},
   "source": []
  },
  {
   "cell_type": "markdown",
   "id": "funky-public",
   "metadata": {},
   "source": []
  },
  {
   "cell_type": "markdown",
   "id": "infectious-satellite",
   "metadata": {},
   "source": []
  },
  {
   "cell_type": "markdown",
   "id": "blank-charles",
   "metadata": {},
   "source": []
  },
  {
   "cell_type": "markdown",
   "id": "lonely-savannah",
   "metadata": {},
   "source": []
  },
  {
   "cell_type": "markdown",
   "id": "worse-virtue",
   "metadata": {},
   "source": []
  }
 ],
 "metadata": {
  "kernelspec": {
   "display_name": "Python 3.9.2 64-bit",
   "language": "python",
   "name": "python392jvsc74a57bd0aee8b7b246df8f9039afb4144a1f6fd8d2ca17a180786b69acc140d282b71a49"
  },
  "language_info": {
   "codemirror_mode": {
    "name": "ipython",
    "version": 3
   },
   "file_extension": ".py",
   "mimetype": "text/x-python",
   "name": "python",
   "nbconvert_exporter": "python",
   "pygments_lexer": "ipython3",
   "version": "3.9.2"
  }
 },
 "nbformat": 4,
 "nbformat_minor": 5
}
